{
 "cells": [
  {
   "cell_type": "code",
   "execution_count": 1,
   "metadata": {},
   "outputs": [],
   "source": [
    "import requests\n",
    "import time\n",
    "import datetime\n",
    "import sys\n",
    "from azure.cognitiveservices.vision.computervision.models import TextOperationStatusCodes\n",
    "import os\n",
    "from azure.cognitiveservices.vision.computervision import ComputerVisionClient\n",
    "from msrest.authentication import CognitiveServicesCredentials\n",
    "from PIL import Image\n",
    "import imageio\n",
    "import time\n",
    "import glob\n",
    "import re\n",
    "#from pdf2image import convert_from_path, convert_from_bytes\n",
    "from collections import Counter \n",
    "import csv\n",
    "from sys import argv"
   ]
  },
  {
   "cell_type": "code",
   "execution_count": 527,
   "metadata": {},
   "outputs": [],
   "source": [
    "def OCR_v1(image_stream):\n",
    "\n",
    "    COMPUTERVISION_LOCATION = os.environ.get(\"COMPUTERVISION_LOCATION\", \"centralindia\")\n",
    "\n",
    "    subscription_key = \"697d2b5119b544a6bab090c849809baa\"\n",
    "\n",
    "\n",
    "\n",
    "    endpoint=\"https://ocr-computervision-innovation.cognitiveservices.azure.com/\",\n",
    "    credentials=CognitiveServicesCredentials(subscription_key)\n",
    "\n",
    "\n",
    "    ocr_url = endpoint[0] + \"vision/v2.1/read/core/asyncBatchAnalyze\"\n",
    "\n",
    "    \n",
    "    start=datetime.datetime.now()\n",
    "\n",
    "    try:\n",
    "    \n",
    "\n",
    "            # Set image_url to the URL of an image that you want to analyze.\n",
    "            headers = {'Ocp-Apim-Subscription-Key': subscription_key, 'Content-Type': 'application/octet-stream'}\n",
    "            params = {'language': 'en', 'detectOrientation': 'true'}\n",
    "            response = requests.post(ocr_url, headers=headers,params=params, data=image_stream)\n",
    "            \n",
    "\n",
    "\n",
    "            response.raise_for_status()\n",
    "\n",
    "            # Extracting text requires two API calls: One call to submit the\n",
    "            # image for processing, the other to retrieve the text found in the image.\n",
    "\n",
    "            # Holds the URI used to retrieve the recognized text.\n",
    "            operation_url = response.headers[\"Operation-Location\"]\n",
    "\n",
    "            # The recognized text isn't immediately available, so poll to wait for completion.\n",
    "            analysis = {}\n",
    "            poll = True\n",
    "            while (poll):\n",
    "                response_final = requests.get(\n",
    "                    response.headers[\"Operation-Location\"], headers=headers)\n",
    "                analysis = response_final.json()\n",
    "                time.sleep(1)\n",
    "                if (\"recognitionResults\" in analysis):\n",
    "                    poll = False\n",
    "                if (\"status\" in analysis and analysis['status'] == 'Failed'):\n",
    "                    poll = False\n",
    "\n",
    "            polygons = []\n",
    "            text=[]\n",
    "\n",
    "            if (\"recognitionResults\" in analysis):\n",
    "                # Extract the recognized text, with bounding boxes.\n",
    "                for line in analysis[\"recognitionResults\"][0][\"lines\"]:\n",
    "                    line_text = \" \".join([word['text'] for word in line['words']])\n",
    "                    text.append(line_text)\n",
    "                    for word in line['words']:\n",
    "                        polygons.append( (word[\"boundingBox\"], word[\"text\"]))\n",
    "                \n",
    "            angle=analysis[\"recognitionResults\"][0]['clockwiseOrientation']\n",
    "\n",
    "            lines = analysis[\"recognitionResults\"][0][\"lines\"]\n",
    "\n",
    "            # Rotate the bounding boxes, based on the text orientation angle.\n",
    "            \n",
    "            origin = (0, 0)\n",
    "            polygons_rot=[]\n",
    "            for i in polygons:\n",
    "                l=i[0]\n",
    "                it = iter(l)\n",
    "                nl=[]\n",
    "                for x in it:\n",
    "                    point=(x, next(it))\n",
    "                    c=rotate(origin, point, math.radians(-angle))\n",
    "                    nl.append(c[0])\n",
    "                    nl.append(c[1])\n",
    "\n",
    "                i+=(nl,)\n",
    "                polygons_rot.append(i)\n",
    "    \n",
    "    \n",
    "    except Exception as e:\n",
    "        print(e)\n",
    "        \n",
    "        text='API response error'\n",
    "        polygons_rot=None\n",
    "    \n",
    "    \n",
    "    OCR_time=datetime.datetime.now()-start\n",
    "\n",
    "    return text,OCR_time,polygons_rot"
   ]
  },
  {
   "cell_type": "code",
   "execution_count": 528,
   "metadata": {},
   "outputs": [],
   "source": [
    "import math\n",
    "\n",
    "def rotate(origin, point, angle):\n",
    "    \"\"\"\n",
    "    Rotate a point counterclockwise by a given angle around a given origin.\n",
    "\n",
    "    The angle should be given in radians.\n",
    "    \"\"\"\n",
    "    ox, oy = origin\n",
    "    px, py = point\n",
    "\n",
    "    qx = ox + math.cos(angle) * (px - ox) - math.sin(angle) * (py - oy)\n",
    "    qy = oy + math.sin(angle) * (px - ox) + math.cos(angle) * (py - oy)\n",
    "    return qx, qy\n"
   ]
  },
  {
   "cell_type": "code",
   "execution_count": 530,
   "metadata": {},
   "outputs": [],
   "source": [
    "filename = r\"C:\\Users\\Mehak.1\\Documents\\CBSE_digitization\\samples\\10th_Marksheet_1.jpg\"\n",
    "image_stream=open(filename,\"rb\").read()"
   ]
  },
  {
   "cell_type": "code",
   "execution_count": 531,
   "metadata": {},
   "outputs": [],
   "source": [
    "a = OCR_v1(image_stream)[0]"
   ]
  },
  {
   "cell_type": "code",
   "execution_count": 532,
   "metadata": {},
   "outputs": [
    {
     "name": "stdout",
     "output_type": "stream",
     "text": [
      "['6/17/2020', '10TH_MARKSHEET.JPG', 'BUG: VER Y./2010/', 'S. NO.S.S.E/2010/', 'CENTRAL BOARD OF SECONDARY EDUCATION', '0383213', 'STATEMENT OF SUBJECT WISE PERFORMANCE', 'OLOZ 18IN WEET YOUBATH', 'WITHWWW ALL INDIASECONDARY SCHOOL EXAMINATION, 2010', 'AT4 NAME', 'ASHUTOSH SINGH', '31-195-4145 ROLL NO. 4208593', \"HIGH 37 714 MOTHER'S NAME\", \"FAGT 351 5TH FATHER'S NAME\", 'SEEMA SINGH PARIHAR', 'GTA FALE DATE OF BIRTH', 'JITENDRA SINGH PARIHAR', 'PARANICK SCHOOL', '05TH SEPTEMBER NINETEEN HUNDRED NINETY FOUR', '06800 J H AMBANI SCHOOL LODHIVALI CHOWK RAIGAD MR', 'IS FAC ( SIT TT )', 'SUBJECT CODE', 'SUBJECT', 'GRADE', 'GRADE POINT (GP)', '101', 'ENGLISH COMM.', 'AZ', '09', '(NINE)', '085', 'HINDI COURSE-B', 'A1', '10 ( TEN)', '041', 'MATHEMATICS', 'A1', 'O (TEN)', '086', 'SCIENCE', 'A2', '9 (NINE)', '087', 'SOCIAL SCIENCE', 'A1', '10 (TEN)', 'SEND THE FIRE ATREA ( AT SIT TIT U ) / CUMULATIVE GRADE POINT AVERAGE (CGPA) :', '9.6', 'AFTERW/RESULT:', 'ELIGIBLE FOR QUALIFYING CERTIFICATE', 'AB : FAVE IL SIZEFIAN ABSENT IN THE SUBJECT', 'ABEANT IN THEORY/ PRACTICAL SKILL / PRACTICAL / INTERNAL ASSESSMENT', 'FACEIT DELHI', '(MCHARMA', 'FACTREF DATED', '28/05/2010', 'CONTROLLER OF EXAMINATIONS', 'THE CGPA IS THE AVERAGE OF GRADE POINTS OBTAINED IN ALL THE SUBJECTS EXCLUDING ADDITIONAL 6 SUBJECT AS PER SCHEME OF STUDIES.', 'AN INDICATIVE EQUIVALENCE OF GRADE POINT AND PERCENTAGE OF MARKS CAN BE ASSESSED AS FOLLOWS :', '- FROMER STAD OF FIREMEN UFIRENEAR .> 9.5 X FAWN WIN VITUT SUBJECT WISE INDICATIVE PERCENTAGE OF MARKS - 9.5 X GP OF THE SUBJECT', 'OF AUG FEBNEWS VFIVEREAL - 9.5 X MISIIT OVERALL INDICATIVE PERCENTAGE OF MARKS - 9.5 X CGPA', 'CS SCANNED WITH CAMSCANNER', 'HTTPS://MAIL.GOOGLE.COM/MAIL/U/0/?TAB=RM&OGBL#INBOX?PROJECTOR=1&MESSAGEPARTLD=0.1', '1/1']\n"
     ]
    }
   ],
   "source": [
    "output2=[]\n",
    "for w in a:\n",
    "        output2.append(w.upper())\n",
    "        \n",
    "print(output2)"
   ]
  },
  {
   "cell_type": "code",
   "execution_count": 505,
   "metadata": {},
   "outputs": [],
   "source": [
    "Examination=''\n",
    "Result=[]\n",
    "for x in output2:\n",
    "    if 'CERTIFICATE EXAMINATION,' in x or 'SECONDARY SCHOOL EXAMINATION' in x:\n",
    "        Examination+=x"
   ]
  },
  {
   "cell_type": "code",
   "execution_count": 506,
   "metadata": {},
   "outputs": [],
   "source": [
    "for x in output2:\n",
    "    for w in x.split(' '):\n",
    "        if 'PASS' in x:        \n",
    "            Result.append(x)\n",
    "            break"
   ]
  },
  {
   "cell_type": "code",
   "execution_count": 507,
   "metadata": {},
   "outputs": [
    {
     "data": {
      "text/plain": [
       "'WITHWWW ALL INDIASECONDARY SCHOOL EXAMINATION, 2010'"
      ]
     },
     "execution_count": 507,
     "metadata": {},
     "output_type": "execute_result"
    }
   ],
   "source": [
    "Examination"
   ]
  },
  {
   "cell_type": "code",
   "execution_count": 508,
   "metadata": {},
   "outputs": [
    {
     "data": {
      "text/plain": [
       "[]"
      ]
     },
     "execution_count": 508,
     "metadata": {},
     "output_type": "execute_result"
    }
   ],
   "source": [
    "Result"
   ]
  },
  {
   "cell_type": "code",
   "execution_count": 509,
   "metadata": {},
   "outputs": [],
   "source": [
    "add=[i for i, s in enumerate(output2) if 'SCHOOL' in s or 'CERTIFICATE EXAMINATION,' in s]\n",
    "z1=min(add)\n",
    "z2=max(add)\n",
    "fornames=output2[z1+1:z2]"
   ]
  },
  {
   "cell_type": "code",
   "execution_count": 511,
   "metadata": {},
   "outputs": [
    {
     "data": {
      "text/plain": [
       "['AT4 NAME', 'ASHUTOSH SINGH', '31-195-4145 ROLL NO. 4208593', \"HIGH 37 714 MOTHER'S NAME\", \"FAGT 351 5TH FATHER'S NAME\", 'SEEMA SINGH PARIHAR', 'GTA FALE DATE OF BIRTH', 'JITENDRA SINGH PARIHAR', 'PARANICK SCHOOL', '05TH SEPTEMBER NINETEEN HUNDRED NINETY FOUR']"
      ]
     },
     "execution_count": 511,
     "metadata": {},
     "output_type": "execute_result"
    }
   ],
   "source": [
    "fornames"
   ]
  },
  {
   "cell_type": "code",
   "execution_count": 512,
   "metadata": {},
   "outputs": [],
   "source": [
    "Rollno=''\n",
    "for i in fornames:\n",
    "    for w in i.split(' '):\n",
    "        if  re.match('\\d{7}',w):\n",
    "            Rollno=w"
   ]
  },
  {
   "cell_type": "code",
   "execution_count": 513,
   "metadata": {},
   "outputs": [
    {
     "data": {
      "text/plain": [
       "['AT4 NAME', 'ASHUTOSH SINGH', '31-195-4145 ROLL NO. 4208593', \"HIGH 37 714 MOTHER'S NAME\", \"FAGT 351 5TH FATHER'S NAME\", 'SEEMA SINGH PARIHAR', 'GTA FALE DATE OF BIRTH', 'JITENDRA SINGH PARIHAR', 'PARANICK SCHOOL', '05TH SEPTEMBER NINETEEN HUNDRED NINETY FOUR']"
      ]
     },
     "execution_count": 513,
     "metadata": {},
     "output_type": "execute_result"
    }
   ],
   "source": [
    "fornames"
   ]
  },
  {
   "cell_type": "code",
   "execution_count": 524,
   "metadata": {},
   "outputs": [],
   "source": [
    "cutfornames=[]\n",
    "for i in fornames:\n",
    "        if 'ROLL' not in i and Rollno not in i and not(re.match('[0-9$]',i)) and 'DATE OF BIRTH' not in i and \"MOTHER'S NAME\" not in i and \"FATHER'S NAME\" not in i:\n",
    "            cutfornames.append(i)            "
   ]
  },
  {
   "cell_type": "code",
   "execution_count": 525,
   "metadata": {},
   "outputs": [
    {
     "data": {
      "text/plain": [
       "['AT4 NAME', 'ASHUTOSH SINGH', 'SEEMA SINGH PARIHAR', 'JITENDRA SINGH PARIHAR', 'PARANICK SCHOOL']"
      ]
     },
     "execution_count": 525,
     "metadata": {},
     "output_type": "execute_result"
    }
   ],
   "source": [
    "cutfornames"
   ]
  },
  {
   "cell_type": "code",
   "execution_count": 526,
   "metadata": {},
   "outputs": [
    {
     "ename": "IndexError",
     "evalue": "list index out of range",
     "output_type": "error",
     "traceback": [
      "\u001b[1;31m---------------------------------------------------------------------------\u001b[0m",
      "\u001b[1;31mIndexError\u001b[0m                                Traceback (most recent call last)",
      "\u001b[1;32m<ipython-input-526-641c46b52331>\u001b[0m in \u001b[0;36m<module>\u001b[1;34m\u001b[0m\n\u001b[0;32m      1\u001b[0m \u001b[0mName\u001b[0m\u001b[1;33m=\u001b[0m\u001b[0mcutfornames\u001b[0m\u001b[1;33m[\u001b[0m\u001b[1;36m0\u001b[0m\u001b[1;33m]\u001b[0m\u001b[1;33m.\u001b[0m\u001b[0msplit\u001b[0m\u001b[1;33m(\u001b[0m\u001b[1;33m)\u001b[0m\u001b[1;33m[\u001b[0m\u001b[1;33m-\u001b[0m\u001b[1;36m2\u001b[0m\u001b[1;33m:\u001b[0m\u001b[1;33m]\u001b[0m\u001b[1;33m\u001b[0m\u001b[1;33m\u001b[0m\u001b[0m\n\u001b[0;32m      2\u001b[0m \u001b[0mMother_name\u001b[0m\u001b[1;33m=\u001b[0m\u001b[0mcutfornames\u001b[0m\u001b[1;33m[\u001b[0m\u001b[1;36m1\u001b[0m\u001b[1;33m]\u001b[0m\u001b[1;33m.\u001b[0m\u001b[0msplit\u001b[0m\u001b[1;33m(\u001b[0m\u001b[1;33m)\u001b[0m\u001b[1;33m[\u001b[0m\u001b[1;33m-\u001b[0m\u001b[1;36m2\u001b[0m\u001b[1;33m:\u001b[0m\u001b[1;33m]\u001b[0m\u001b[1;33m\u001b[0m\u001b[1;33m\u001b[0m\u001b[0m\n\u001b[1;32m----> 3\u001b[1;33m \u001b[0mFather_name\u001b[0m\u001b[1;33m=\u001b[0m\u001b[0mcutfornames\u001b[0m\u001b[1;33m[\u001b[0m\u001b[1;36m2\u001b[0m\u001b[1;33m]\u001b[0m\u001b[1;33m.\u001b[0m\u001b[0msplit\u001b[0m\u001b[1;33m(\u001b[0m\u001b[1;34m'NAME'\u001b[0m\u001b[1;33m)\u001b[0m\u001b[1;33m[\u001b[0m\u001b[1;36m1\u001b[0m\u001b[1;33m]\u001b[0m\u001b[1;33m\u001b[0m\u001b[1;33m\u001b[0m\u001b[0m\n\u001b[0m\u001b[0;32m      4\u001b[0m \u001b[0mResult\u001b[0m\u001b[1;33m=\u001b[0m\u001b[0mResult\u001b[0m\u001b[1;33m[\u001b[0m\u001b[1;36m0\u001b[0m\u001b[1;33m]\u001b[0m\u001b[1;33m.\u001b[0m\u001b[0msplit\u001b[0m\u001b[1;33m(\u001b[0m\u001b[1;34m'RESULT'\u001b[0m\u001b[1;33m)\u001b[0m\u001b[1;33m[\u001b[0m\u001b[1;36m1\u001b[0m\u001b[1;33m]\u001b[0m\u001b[1;33m\u001b[0m\u001b[1;33m\u001b[0m\u001b[0m\n",
      "\u001b[1;31mIndexError\u001b[0m: list index out of range"
     ]
    }
   ],
   "source": [
    "Name=cutfornames[0].split()[-2:]\n",
    "Mother_name=cutfornames[1].split()[-2:]\n",
    "Father_name=cutfornames[2].split('NAME')[1]\n",
    "Result=Result[0].split('RESULT')[1]"
   ]
  },
  {
   "cell_type": "code",
   "execution_count": null,
   "metadata": {},
   "outputs": [],
   "source": []
  },
  {
   "cell_type": "code",
   "execution_count": 518,
   "metadata": {},
   "outputs": [],
   "source": [
    "data = {}\n",
    "data['Examination']=Examination\n",
    "data['Name'] = Name\n",
    "data['Roll No'] = Rollno\n",
    "data[\"Mother's Name\"]=Mother_name\n",
    "data[\"Father's Name\"] =Father_name\n",
    "data['Result']=Result"
   ]
  },
  {
   "cell_type": "code",
   "execution_count": 519,
   "metadata": {},
   "outputs": [
    {
     "name": "stdout",
     "output_type": "stream",
     "text": [
      "{'Examination': 'WITHWWW ALL INDIASECONDARY SCHOOL EXAMINATION, 2010', 'Name': ['AT4', 'NAME'], 'Roll No': '4208593', \"Mother's Name\": ['ASHUTOSH', 'SINGH'], \"Father's Name\": '', 'Result': []}\n"
     ]
    }
   ],
   "source": [
    "print(data)"
   ]
  },
  {
   "cell_type": "code",
   "execution_count": null,
   "metadata": {},
   "outputs": [],
   "source": []
  }
 ],
 "metadata": {
  "kernelspec": {
   "display_name": "Python 3",
   "language": "python",
   "name": "python3"
  },
  "language_info": {
   "codemirror_mode": {
    "name": "ipython",
    "version": 3
   },
   "file_extension": ".py",
   "mimetype": "text/x-python",
   "name": "python",
   "nbconvert_exporter": "python",
   "pygments_lexer": "ipython3",
   "version": "3.7.1"
  }
 },
 "nbformat": 4,
 "nbformat_minor": 2
}
